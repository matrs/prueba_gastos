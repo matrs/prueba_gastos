{
 "cells": [
  {
   "cell_type": "code",
   "execution_count": 11,
   "id": "b2445822-7803-4443-9e38-55d7e6f18f5c",
   "metadata": {},
   "outputs": [
    {
     "name": "stdout",
     "output_type": "stream",
     "text": [
      "/run/media/mibu/LR-orico_mini/Recovery_ADATA/Tutorials/javascript/js_gobierno/Modulo6/Practico/prueba_gastos\n"
     ]
    }
   ],
   "source": [
    "process.cwd()"
   ]
  },
  {
   "cell_type": "code",
   "execution_count": 24,
   "id": "417a8487-1fa3-49e6-9fc4-898b7686d4da",
   "metadata": {},
   "outputs": [],
   "source": [
    "const fs = require('fs')\n",
    "const path = require('path')"
   ]
  },
  {
   "cell_type": "code",
   "execution_count": 36,
   "id": "f376d6e7-f6b4-47db-8b61-a39b7ad11bfe",
   "metadata": {
    "tags": []
   },
   "outputs": [],
   "source": [
    "const rootPath= \"/home/mibu/Documents/roommates\"\n",
    "const usersFile = path.join(rootPath, \"roommates.json\")\n",
    "const gastosFile = path.join(rootPath, \"gastos.json\")"
   ]
  },
  {
   "cell_type": "code",
   "execution_count": 78,
   "id": "8db37963-f9b1-4210-8009-2fbdc153af67",
   "metadata": {},
   "outputs": [
    {
     "name": "stdout",
     "output_type": "stream",
     "text": [
      "**Roommates:**\n",
      " [\n",
      "  { id: \u001b[32m'a69ba3'\u001b[39m, nombre: \u001b[32m'Mr Aidan Moore'\u001b[39m, debe: \u001b[33m500\u001b[39m, recibe: \u001b[33m500\u001b[39m },\n",
      "  {\n",
      "    id: \u001b[32m'759edb'\u001b[39m,\n",
      "    nombre: \u001b[32m'Mr Edouard Masson'\u001b[39m,\n",
      "    debe: \u001b[33m1000\u001b[39m,\n",
      "    recibe: \u001b[33m1000\u001b[39m\n",
      "  },\n",
      "  {\n",
      "    id: \u001b[32m'165acd'\u001b[39m,\n",
      "    nombre: \u001b[32m'Mr Onildo Barbosa'\u001b[39m,\n",
      "    debe: \u001b[33m666.667\u001b[39m,\n",
      "    recibe: \u001b[33m1333.333\u001b[39m\n",
      "  }\n",
      "] \n",
      "\n",
      "**Gastos:**\n",
      " [\n",
      "  {\n",
      "    id: \u001b[32m'd080f1'\u001b[39m,\n",
      "    roommate: \u001b[32m'Mr Aidan Moore'\u001b[39m,\n",
      "    descripcion: \u001b[32m'Articulos de limpieza'\u001b[39m,\n",
      "    monto: \u001b[33m1000\u001b[39m,\n",
      "    length: \u001b[33m2\u001b[39m\n",
      "  },\n",
      "  {\n",
      "    id: \u001b[32m'd838d9'\u001b[39m,\n",
      "    roommate: \u001b[32m'Mr Edouard Masson'\u001b[39m,\n",
      "    descripcion: \u001b[32m'Articulos de limpieza'\u001b[39m,\n",
      "    monto: \u001b[33m2000\u001b[39m,\n",
      "    length: \u001b[33m2\u001b[39m\n",
      "  },\n",
      "  {\n",
      "    id: \u001b[32m'2f8af8'\u001b[39m,\n",
      "    roommate: \u001b[32m'Mr Onildo Barbosa'\u001b[39m,\n",
      "    descripcion: \u001b[32m'Articulos de limpieza'\u001b[39m,\n",
      "    monto: \u001b[33m2000\u001b[39m,\n",
      "    length: \u001b[33m3\u001b[39m\n",
      "  }\n",
      "]\n"
     ]
    }
   ],
   "source": [
    "const {roommates} = JSON.parse(fs.readFileSync(usersFile, \"utf8\"));\n",
    "const {gastos} = JSON.parse(fs.readFileSync(gastosFile, \"utf8\"));\n",
    "console.log(\"**Roommates:**\\n\",roommates,\n",
    "            \"\\n\\n**Gastos:**\\n\",gastos)"
   ]
  },
  {
   "cell_type": "code",
   "execution_count": 83,
   "id": "91f8225e-b738-4310-908d-89c1b97eb89a",
   "metadata": {
    "tags": []
   },
   "outputs": [
    {
     "name": "stdout",
     "output_type": "stream",
     "text": [
      "\u001b[33m4000\u001b[39m \u001b[33m4000\u001b[39m\n"
     ]
    }
   ],
   "source": [
    "let id = 'd080f1';\n",
    "const { roommate, descripcion, monto } = {\n",
    "  roommate: 'Miss Millie White',\n",
    "  descripcion: 'Articulos de limpieza',\n",
    "  monto: 8000\n",
    "}\n",
    "let newGasto = 0;\n",
    "let oldGasto = 0;\n",
    "gastos\n",
    "    .filter((gasto) => gasto.id === id)\n",
    "    .forEach((gasto) => {\n",
    "      oldGasto = gasto.monto / gasto.length;\n",
    "      newGasto = monto / gasto.length;\n",
    "      //   update gasto\n",
    "      gasto.monto = monto;\n",
    "    });\n",
    "console.log(newGasto, oldGasto)"
   ]
  },
  {
   "cell_type": "code",
   "execution_count": 89,
   "id": "d8a24031-f726-4552-9403-333f5f6d2ad3",
   "metadata": {},
   "outputs": [
    {
     "name": "stdout",
     "output_type": "stream",
     "text": [
      "\u001b[33m4000\u001b[39m \u001b[33m4000\u001b[39m\n"
     ]
    }
   ],
   "source": [
    "console.log(newGasto, oldGasto)"
   ]
  },
  {
   "cell_type": "code",
   "execution_count": 90,
   "id": "7ec0c9fc-6f32-4d0c-8147-c6ffa39f6335",
   "metadata": {},
   "outputs": [
    {
     "name": "stdout",
     "output_type": "stream",
     "text": [
      "[]\n"
     ]
    }
   ],
   "source": [
    "roommates.filter((user) => user.nombre === roommate).map(\n",
    "(user) => {\n",
    "    user.debe += ( newGasto - oldGasto)\n",
    "    user.recibe += (monto - ( newGasto - oldGasto))\n",
    "})sch"
   ]
  },
  {
   "cell_type": "code",
   "execution_count": 63,
   "id": "5ad2ea13-7312-4472-a930-bc7c69127407",
   "metadata": {},
   "outputs": [
    {
     "name": "stdout",
     "output_type": "stream",
     "text": [
      "\u001b[33mfalse\u001b[39m\n"
     ]
    }
   ],
   "source": [
    "Number.isInteger(33.01)"
   ]
  },
  {
   "cell_type": "code",
   "execution_count": 27,
   "id": "969bd221-6e7b-4741-9630-f7cc62b46ea1",
   "metadata": {},
   "outputs": [],
   "source": [
    "// let newGastos = []\n",
    "// let total = 0\n",
    "// function makeNewGastos(gastos) {\n",
    "\n",
    "//     let counts = {}\n",
    "//     let idxs = []\n",
    "//     gastos.gastos.forEach((obj,i,arr) => {\n",
    "//         if (counts[obj.roommate]) {\n",
    "//             counts[obj.roommate].push(i)\n",
    "//             total += obj.monto\n",
    "//             obj.monto = total\n",
    "//             console.log('if',obj.roommate, obj.monto, total)\n",
    "//             newGastos.push(obj)\n",
    "//         } else {\n",
    "//             idxs = []\n",
    "//             counts[obj.roommate] = idxs\n",
    "//             counts[obj.roommate].push(i)\n",
    "//             newGastos.push(obj)\n",
    "//             // console.log('else',counts)\n",
    "//         }\n",
    "//     })\n",
    "//     return newGastos\n",
    "// }\n",
    "\n",
    "// makeNewGastos(gastos)"
   ]
  },
  {
   "cell_type": "code",
   "execution_count": 27,
   "id": "bd3b4a2f-72ca-4d54-ba8e-e67f36b0a706",
   "metadata": {},
   "outputs": [
    {
     "name": "stdout",
     "output_type": "stream",
     "text": [
      "{ \u001b[32m'Miss Monica Herrera'\u001b[39m: [ \u001b[33m0\u001b[39m, \u001b[33m1\u001b[39m ], \u001b[32m'Mr Casper Lyshaug'\u001b[39m: [ \u001b[33m2\u001b[39m, \u001b[33m3\u001b[39m ] }\n",
      "[\n",
      "  { roommate: \u001b[32m'Miss Monica Herrera'\u001b[39m, monto: \u001b[33m7000\u001b[39m },\n",
      "  { roommate: \u001b[32m'Mr Casper Lyshaug'\u001b[39m, monto: \u001b[33m20100\u001b[39m }\n",
      "]\n"
     ]
    }
   ],
   "source": [
    "function getUsersIdxs(gastos, propName) {\n",
    "// Input: Objeto gastos y property name (la cual puede tener instancias duplicadas)\n",
    "// retorna un objecto con user:[indexes], donde usarios con\n",
    "// multiples gastos tienen como value un array con multiples indices\n",
    "    let usersIdxs = {}\n",
    "    let idxs = []\n",
    "    gastos.gastos.forEach((obj,i,arr) => {\n",
    "        if (usersIdxs[obj[propName]]) {\n",
    "            usersIdxs[obj[propName]].push(i)\n",
    "            // console.log('if',counts)\n",
    "        } else {\n",
    "            idxs = []\n",
    "            usersIdxs[obj[propName]] = idxs\n",
    "            usersIdxs[obj[propName]].push(i)\n",
    "            // console.log('else',counts)\n",
    "        }\n",
    "    })\n",
    "    return usersIdxs\n",
    "}\n",
    "\n",
    "let usersIdxs = getUsersIdxs(gastos, 'roommate')\n",
    "console.log(usersIdxs)\n",
    "\n",
    "// Array creado no necesita tener descripcion, pues no existe\n",
    "// en tabla tabla usuarios\n",
    "function mergeUsers(usersIdxs, gastos){\n",
    "// Input: objeto creado con getUsersIdxs y objeto gastos\n",
    "// Buscar usuarios con multiples gastos y hacer un merge \n",
    "// retorna nuevo array con gastos. Este sera usado para actualizar\n",
    "// la tabla de usuarios (y su recibe/debe)\n",
    "    let newGastos = []\n",
    "    for (let k in usersIdxs) {\n",
    "        let gastosTmp = 0;\n",
    "        let v = usersIdxs[k]\n",
    "        if (v.length > 1) {\n",
    "            let gastosTmp = 0;\n",
    "            // console.log(v,k)\n",
    "            v.forEach( idx => {\n",
    "                gastosTmp += gastos.gastos[idx].monto\n",
    "            })\n",
    "            newGastos.push({roommate:k, monto:gastosTmp})\n",
    "        } else {\n",
    "            newGastos.push( {roommate:gastos.gastos[v[0]].roommate, \n",
    "                             monto: gastos.gastos[v[0]].monto} )\n",
    "        }\n",
    "    }\n",
    "    return newGastos\n",
    "}\n",
    "\n",
    "let newGastos = mergeUsers(usersIdxs, gastos)\n",
    "console.log(newGastos)"
   ]
  },
  {
   "cell_type": "code",
   "execution_count": 47,
   "id": "de4ac222-bb10-4ee9-b6ff-3cb4c14f23cb",
   "metadata": {
    "tags": []
   },
   "outputs": [
    {
     "name": "stdout",
     "output_type": "stream",
     "text": [
      "{\n",
      "  roommates: [\n",
      "    { nombre: \u001b[32m'Miss Monica Herrera'\u001b[39m },\n",
      "    { nombre: \u001b[32m'Mr Nataniel Theodorsen'\u001b[39m },\n",
      "    { nombre: \u001b[32m'Mr Casper Lyshaug'\u001b[39m }\n",
      "  ]\n",
      "} \n",
      "\n",
      " {\n",
      "  gastos: [\n",
      "    {\n",
      "      roommate: \u001b[32m'Miss Monica Herrera'\u001b[39m,\n",
      "      descripcion: \u001b[32m'Articulos de limpieza'\u001b[39m,\n",
      "      monto: \u001b[33m5000\u001b[39m\n",
      "    },\n",
      "    {\n",
      "      roommate: \u001b[32m'Miss Monica Herrera'\u001b[39m,\n",
      "      descripcion: \u001b[32m'Articulos de limpieza'\u001b[39m,\n",
      "      monto: \u001b[33m2000\u001b[39m\n",
      "    },\n",
      "    {\n",
      "      roommate: \u001b[32m'Mr Casper Lyshaug'\u001b[39m,\n",
      "      descripcion: \u001b[32m'Articulos de limpieza'\u001b[39m,\n",
      "      monto: \u001b[33m20000\u001b[39m\n",
      "    },\n",
      "    {\n",
      "      roommate: \u001b[32m'Mr Casper Lyshaug'\u001b[39m,\n",
      "      descripcion: \u001b[32m'Articulos de limpieza'\u001b[39m,\n",
      "      monto: \u001b[33m100\u001b[39m\n",
      "    }\n",
      "  ]\n",
      "}\n"
     ]
    }
   ],
   "source": [
    "console.log(roommates,'\\n\\n', gastos)"
   ]
  },
  {
   "cell_type": "markdown",
   "id": "ff6a37f6-5fb3-46fd-956b-5834f58a324d",
   "metadata": {},
   "source": [
    "**Agregar gastos debe actualizar `roommates`, pero boton \"agregar roommate\" no\n",
    "debe computar nuevos _`recibe/debe`_, pues usuario nuevo no debe pagar por gastos que se hicieron antes que el existiese.**"
   ]
  },
  {
   "cell_type": "code",
   "execution_count": 78,
   "id": "98184398-6a6c-40a3-95f1-3d42677ab04d",
   "metadata": {},
   "outputs": [
    {
     "name": "stdout",
     "output_type": "stream",
     "text": [
      "[\n",
      "  \u001b[32m'Miss Monica Herrera'\u001b[39m: [\n",
      "    {\n",
      "      roommate: \u001b[32m'Miss Monica Herrera'\u001b[39m,\n",
      "      descripcion: \u001b[32m'Articulos de limpieza'\u001b[39m,\n",
      "      monto: \u001b[33m5000\u001b[39m\n",
      "    },\n",
      "    {\n",
      "      roommate: \u001b[32m'Miss Monica Herrera'\u001b[39m,\n",
      "      descripcion: \u001b[32m'Articulos de limpieza'\u001b[39m,\n",
      "      monto: \u001b[33m2000\u001b[39m\n",
      "    }\n",
      "  ],\n",
      "  \u001b[32m'Mr Casper Lyshaug'\u001b[39m: [\n",
      "    {\n",
      "      roommate: \u001b[32m'Mr Casper Lyshaug'\u001b[39m,\n",
      "      descripcion: \u001b[32m'Articulos de limpieza'\u001b[39m,\n",
      "      monto: \u001b[33m20000\u001b[39m\n",
      "    },\n",
      "    {\n",
      "      roommate: \u001b[32m'Mr Casper Lyshaug'\u001b[39m,\n",
      "      descripcion: \u001b[32m'Articulos de limpieza'\u001b[39m,\n",
      "      monto: \u001b[33m100\u001b[39m\n",
      "    }\n",
      "  ],\n",
      "  \u001b[32m'Miss Deanna Douglas'\u001b[39m: [\n",
      "    {\n",
      "      roommate: \u001b[32m'Miss Deanna Douglas'\u001b[39m,\n",
      "      descripcion: \u001b[32m'Articulos de limpieza'\u001b[39m,\n",
      "      monto: \u001b[33m5000\u001b[39m\n",
      "    }\n",
      "  ]\n",
      "]\n"
     ]
    }
   ],
   "source": [
    "let gastosGrouped = gastos.gastos.reduce((group,curr) => {\n",
    "    const {roommate} = curr\n",
    "    group[roommate] = group[roommate] ?? [];\n",
    "    group[roommate].push(curr);\n",
    "    return group;\n",
    "}, [])\n",
    "\n",
    "gastosGrouped"
   ]
  },
  {
   "cell_type": "code",
   "execution_count": 77,
   "id": "8c2aecf1-ca4f-4c83-8dfc-9fff87286cc8",
   "metadata": {},
   "outputs": [
    {
     "name": "stdout",
     "output_type": "stream",
     "text": [
      "[\n",
      "  { nombre: \u001b[32m'Miss Monica Herrera'\u001b[39m },\n",
      "  { nombre: \u001b[32m'Mr Nataniel Theodorsen'\u001b[39m },\n",
      "  { nombre: \u001b[32m'Mr Casper Lyshaug'\u001b[39m },\n",
      "  { nombre: \u001b[32m'Miss Deanna Douglas'\u001b[39m }\n",
      "]\n"
     ]
    }
   ],
   "source": [
    "roommates.roommates"
   ]
  },
  {
   "cell_type": "code",
   "execution_count": 76,
   "id": "04d7adb2-a484-4d20-88d9-ebfdd13aeeb6",
   "metadata": {},
   "outputs": [
    {
     "name": "stdout",
     "output_type": "stream",
     "text": [
      "heyhey\n"
     ]
    },
    {
     "name": "stderr",
     "output_type": "stream",
     "text": [
      "evalmachine.<anonymous>:14\n",
      "        if (gastosGrouped[r.nombre].length == 1) {\n",
      "                                    ^\n",
      "\n",
      "TypeError: Cannot read properties of undefined (reading 'length')\n",
      "    at AddCuentas (evalmachine.<anonymous>:14:37)\n",
      "    at evalmachine.<anonymous>:26:22\n",
      "    at evalmachine.<anonymous>:28:3\n",
      "\u001b[90m    at sigintHandlersWrap (node:vm:268:12)\u001b[39m\n",
      "\u001b[90m    at Script.runInContext (node:vm:137:14)\u001b[39m\n",
      "\u001b[90m    at Object.runInContext (node:vm:289:6)\u001b[39m\n",
      "    at Object.execute (/usr/lib/node_modules/\u001b[4mtslab\u001b[24m/dist/executor.js:159:38)\n",
      "    at JupyterHandlerImpl.handleExecuteImpl (/usr/lib/node_modules/\u001b[4mtslab\u001b[24m/dist/jupyter.js:206:38)\n",
      "    at /usr/lib/node_modules/\u001b[4mtslab\u001b[24m/dist/jupyter.js:164:57\n",
      "    at async JupyterHandlerImpl.handleExecute (/usr/lib/node_modules/\u001b[4mtslab\u001b[24m/dist/jupyter.js:164:21)\n"
     ]
    }
   ],
   "source": [
    "function AddCuentas(roommates, gastos) {\n",
    "    const newUsers = []\n",
    "    // Agrupar gastos por usuario (un usuario puede tener multiples gastos)\n",
    "    const gastosGrouped = gastos.gastos.reduce((group,curr) => {\n",
    "        const {roommate} = curr\n",
    "        group[roommate] = group[roommate] ?? [];\n",
    "        group[roommate].push(curr);\n",
    "        return group;\n",
    "    }, []);\n",
    "    \n",
    "    let debe;\n",
    "    let recibe;\n",
    "    let len = roommates.roommates.length\n",
    "    \n",
    "    for (let r of roommates.roommates) {\n",
    "        // usuario no ha efectuado gastos aun\n",
    "        if (!gastosGrouped.includes(r.nombre)) {\n",
    "            newUsers.push(r)\n",
    "            // no es necesario seguir\n",
    "            break\n",
    "        }\n",
    "        else if (gastosGrouped[r.nombre].length == 1) {\n",
    "            recibe = gastosGrouped[r.nombre][0].monto / (len - 1)\n",
    "            debe = gastosGrouped[r.nombre][0].monto - recibe\n",
    "            newUsers.push(...gastosGrouped[r.nombre], debe, recibe)\n",
    "        } else {\n",
    "            let total = 0\n",
    "            gastosGrouped[r.nombre].forEach((gasto) => {\n",
    "                if (!gasto.recibe) {\n",
    "                    recibe = gasto.monto / (len - 1)\n",
    "                    debe = gasto.monto - recibe\n",
    "                }\n",
    "        })\n",
    "    }\n",
    "}\n",
    "\n",
    "AddCuentas(roommates, gastos)"
   ]
  },
  {
   "cell_type": "code",
   "execution_count": 86,
   "id": "9c5fe5fd-f67f-4d56-8195-cf6f28625ab8",
   "metadata": {},
   "outputs": [],
   "source": [
    "let a = { nombre: 'Mr Casper Lyshaug', recibe: 20100, debe: 0 }\n",
    "// console.log(a.lore)\n",
    "if (undefined) console.log(\"que pasa\")"
   ]
  },
  {
   "cell_type": "code",
   "execution_count": 50,
   "id": "9380944f-bf6b-4dc6-bfea-ac0352f02869",
   "metadata": {
    "tags": []
   },
   "outputs": [
    {
     "name": "stdout",
     "output_type": "stream",
     "text": [
      "[\n",
      "  { nombre: \u001b[32m'Miss Monica Herrera'\u001b[39m, recibe: \u001b[33m7000\u001b[39m, debe: \u001b[33m0\u001b[39m },\n",
      "  { nombre: \u001b[32m'Mr Nataniel Theodorsen'\u001b[39m },\n",
      "  { nombre: \u001b[32m'Mr Nataniel Theodorsen'\u001b[39m },\n",
      "  { nombre: \u001b[32m'Mr Casper Lyshaug'\u001b[39m },\n",
      "  { nombre: \u001b[32m'Mr Casper Lyshaug'\u001b[39m, recibe: \u001b[33m20100\u001b[39m, debe: \u001b[33m0\u001b[39m }\n",
      "]\n"
     ]
    }
   ],
   "source": [
    "\n",
    "function AddCuentas(roommates, gastos) {\n",
    "// Input: Objeto roommates y newGastos, creado por MergeUsers\n",
    "// Output: Objeto roommates que incluye recibe y debe.\n",
    "    const newUsers = []\n",
    "    let usersIdxs = getUsersIdxs(gastos, 'roommate')\n",
    "    const newGastos = mergeUsers(usersIdxs, gastos)\n",
    "    let len = newGastos.length\n",
    "    if (newGastos.length === 0) return\n",
    "    for (let r of roommates.roommates) {\n",
    "        const idx = newGastos.indexOf(r.nombre)\n",
    "//         if (idx) !== -1){\n",
    "            \n",
    "//         }\n",
    "        for (let g of newGastos) {\n",
    "            // console.log(g.roommate)\n",
    "            if (r.nombre == g.roommate) {\n",
    "                let recibe = g.monto / (len - 1) ;\n",
    "                let debe = g.monto - recibe;\n",
    "                let nombre = g.roommate;\n",
    "                newUsers.push({...r,recibe, debe})\n",
    "                break\n",
    "                // console.log(g.roommate)\n",
    "            } else {\n",
    "                newUsers.push(r)\n",
    "                // break\n",
    "            }\n",
    "        }\n",
    "    }\n",
    "    return newUsers\n",
    "}\n",
    "\n",
    "// let newGastos = mergeUsers(usersIdxs, gastos)\n",
    "let newUsers = AddCuentas(roommates, gastos)\n",
    "newUsers"
   ]
  },
  {
   "cell_type": "code",
   "execution_count": 18,
   "id": "46308950-7022-4370-8a5f-3893cb4fe9b2",
   "metadata": {},
   "outputs": [
    {
     "name": "stdout",
     "output_type": "stream",
     "text": [
      "{\"roommates\":[{\"id\":\"b7f0ae\",\"nombre\":\"Miss Monica Herrera\",\"recibe\":3500,\"debe\":3500},{\"id\":\"b27967\",\"nombre\":\"Mr Nataniel Theodorsen\",\"recibe\":500,\"debe\":500},{\"id\":\"55a14f\",\"nombre\":\"Mr Casper Lyshaug\",\"recibe\":10050,\"debe\":10050}]}\n"
     ]
    }
   ],
   "source": [
    "JSON.stringify({ roommates:newUsers });"
   ]
  },
  {
   "cell_type": "code",
   "execution_count": 12,
   "id": "0345564a-d53f-481c-b097-4b61e898e731",
   "metadata": {},
   "outputs": [
    {
     "name": "stdout",
     "output_type": "stream",
     "text": [
      "[\n",
      "  { roommate: \u001b[32m'Miss Monica Herrera'\u001b[39m, monto: \u001b[33m7000\u001b[39m },\n",
      "  { roommate: \u001b[32m'Mr Nataniel Theodorsen'\u001b[39m, monto: \u001b[33m1000\u001b[39m },\n",
      "  { roommate: \u001b[32m'Mr Casper Lyshaug'\u001b[39m, monto: \u001b[33m20100\u001b[39m }\n",
      "]\n"
     ]
    }
   ],
   "source": [
    "mergeUsers(usersIdxs, gastos)"
   ]
  },
  {
   "cell_type": "code",
   "execution_count": 21,
   "id": "2af504a3-02be-46f8-96f5-76cfacd34c1a",
   "metadata": {},
   "outputs": [
    {
     "name": "stdout",
     "output_type": "stream",
     "text": [
      "[]\n"
     ]
    }
   ],
   "source": [
    "// const emptyGastosF = \"/home/mibu/Documents/roommates/gastos.json\"\n",
    "// const emptyGastos = JSON.parse(fs.readFileSync(empyGastos, \"utf8\"));\n",
    "// emptyGastos.gastos"
   ]
  },
  {
   "cell_type": "code",
   "execution_count": 95,
   "id": "53a0f237-1505-4f4b-b5f6-cdabf9a97366",
   "metadata": {},
   "outputs": [
    {
     "name": "stdout",
     "output_type": "stream",
     "text": [
      "\u001b[33m33.45333\u001b[39m\n"
     ]
    }
   ],
   "source": [
    "let neg = -3\n",
    "console.log(Math.abs(-33.45333))"
   ]
  },
  {
   "cell_type": "code",
   "execution_count": 108,
   "id": "6f676818-671f-4667-a48a-1d2a792f21b6",
   "metadata": {},
   "outputs": [
    {
     "name": "stdout",
     "output_type": "stream",
     "text": [
      "\u001b[33m4\u001b[39m\n"
     ]
    }
   ],
   "source": [
    "let a = 5\n",
    "a -=  3 - 2\n",
    "a"
   ]
  },
  {
   "cell_type": "code",
   "execution_count": 1,
   "id": "3e031ac6-098a-4bfe-9bfd-07a1f7bd592d",
   "metadata": {},
   "outputs": [
    {
     "name": "stdout",
     "output_type": "stream",
     "text": [
      "\u001b[33m3\u001b[39m\n",
      "\u001b[33m3\u001b[39m\n",
      "\u001b[33m0\u001b[39m\n"
     ]
    }
   ],
   "source": [
    "let a = 5\n",
    "a = a - 2\n",
    "console.log(a)\n",
    "a = 5\n",
    "a -= 2\n",
    "console.log(a)\n",
    "a =5\n",
    "a -= a\n",
    "console.log(a)"
   ]
  }
 ],
 "metadata": {
  "kernelspec": {
   "display_name": "JavaScript",
   "language": "javascript",
   "name": "jslab"
  },
  "language_info": {
   "file_extension": ".js",
   "mimetype": "text/javascript",
   "name": "javascript",
   "version": ""
  },
  "widgets": {
   "application/vnd.jupyter.widget-state+json": {
    "state": {},
    "version_major": 2,
    "version_minor": 0
   }
  }
 },
 "nbformat": 4,
 "nbformat_minor": 5
}
